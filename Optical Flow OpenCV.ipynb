{
 "cells": [
  {
   "cell_type": "code",
   "execution_count": 1,
   "metadata": {},
   "outputs": [],
   "source": [
    "import cv2\n",
    "import numpy as np"
   ]
  },
  {
   "cell_type": "code",
   "execution_count": 2,
   "metadata": {},
   "outputs": [],
   "source": [
    "#Parameters for Shi-Tomashi corner detection\n",
    "st_params=dict(maxCorners=30, qualityLevel=0.2, minDistance=2, blockSize=7)\n",
    "\n",
    "#Parameters for Lucas Kande Optical flow\n",
    "lk_params=dict(winSize=(15,15), maxLevel=2, criteria=(cv2.TERM_CRITERIA_EPS | cv2.TERM_CRITERIA_COUNT, 10,1))\n"
   ]
  },
  {
   "cell_type": "code",
   "execution_count": 4,
   "metadata": {},
   "outputs": [],
   "source": [
    "#Video Capture\n",
    "cap= cv2.VideoCapture('Vechile.mp4')\n",
    "\n",
    "#Color for optical flow\n",
    "color= (0,255,0)\n",
    "\n",
    "#Read the capture and get the first frame\n",
    "ret, first_frame= cap.read()\n",
    "prev_gray= cv2.cvtColor(first_frame, cv2.COLOR_BGR2GRAY)\n",
    "\n",
    "#Find the strongest corner in the first frame\n",
    "prev= cv2.goodFeaturesToTrack(prev_gray, mask= None, **st_params)\n",
    "\n",
    "#create the image with the same dimmension as the frame for the later drawing purposes\n",
    "mask= np.zeros_like(first_frame)\n",
    "\n",
    "#Loop over the frames\n",
    "while(cap.isOpened()):\n",
    "    ret, frame= cap.read()\n",
    "    gray= cv2.cvtColor(frame, cv2.COLOR_BGR2GRAY)\n",
    "    \n",
    "    #Calculate the optical flow by Lucas- Kanade \n",
    "    next, status, error= cv2.calcOpticalFlowPyrLK(prev_gray, gray, prev, None, **lk_params)\n",
    "    \n",
    "    #select good features for previous position\n",
    "    good_old= prev[status==1]\n",
    "    \n",
    "    #elect good features for next position\n",
    "    good_new= next[status==1]\n",
    "    \n",
    "    #Draw optical flow track\n",
    "    for i,(new,old) in enumerate(zip(good_new, good_old)):\n",
    "        #return coordinates for new and old position\n",
    "        a,b= new.ravel()\n",
    "        c,d= old.ravel()\n",
    "        \n",
    "        #Draw line between old and new position\n",
    "        mask= cv2.line(mask, (a,b), (c,d), color, 2)\n",
    "        \n",
    "        #Draw a filled circle on the corners \n",
    "        frame= cv2.circle(frame, (a,b), 3, color, -1)\n",
    "    \n",
    "    #Overlay the optical flow on original image\n",
    "    output= cv2.add(frame, mask)\n",
    "    \n",
    "    #Update previous frame\n",
    "    prev_gray= gray.copy()\n",
    "    \n",
    "    #Update good feature\n",
    "    prev= good_new.reshape(-1,1,2)\n",
    "    \n",
    "    #Display the frame\n",
    "    cv2.imshow('Optical Flow Video', output)\n",
    "    \n",
    "    if cv2.waitKey(300)& 0xFF== ord('q'):\n",
    "        break\n",
    "\n",
    "cv2.destroyAllWindows()\n",
    "cap.release()"
   ]
  },
  {
   "cell_type": "code",
   "execution_count": null,
   "metadata": {},
   "outputs": [],
   "source": []
  }
 ],
 "metadata": {
  "kernelspec": {
   "display_name": "Python 3",
   "language": "python",
   "name": "python3"
  },
  "language_info": {
   "codemirror_mode": {
    "name": "ipython",
    "version": 3
   },
   "file_extension": ".py",
   "mimetype": "text/x-python",
   "name": "python",
   "nbconvert_exporter": "python",
   "pygments_lexer": "ipython3",
   "version": "3.7.7"
  }
 },
 "nbformat": 4,
 "nbformat_minor": 4
}
