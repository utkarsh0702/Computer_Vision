{
 "cells": [
  {
   "cell_type": "code",
   "execution_count": 1,
   "metadata": {},
   "outputs": [],
   "source": [
    "import cv2\n",
    "import numpy as np"
   ]
  },
  {
   "cell_type": "code",
   "execution_count": 2,
   "metadata": {},
   "outputs": [],
   "source": [
    "img= cv2.imread('corner.jpg')\n",
    "gray= cv2.cvtColor(img, cv2.COLOR_BGR2GRAY)\n",
    "gray= np.float32(gray)\n",
    "\n",
    "# cv2.goodFeaturesToTrack() takes 4 arguments:\n",
    "# 1. input image\n",
    "# 2. number of corner points you are willing to find\n",
    "# 3. image quality\n",
    "# 4. minimum distance between 2 points\n",
    "corners= cv2.goodFeaturesToTrack(gray, 100, 0.01, 10)\n",
    "corners= np.int0(corners)\n",
    "\n",
    "for i in corners:\n",
    "    x,y = i.ravel()\n",
    "    cv2.circle(img, (x,y), 3, (255,255, 0), -1)\n",
    "\n",
    "cv2.imshow('Corner Detected Image', img)\n",
    "cv2.waitKey(0)\n",
    "cv2.destroyAllWindows()"
   ]
  },
  {
   "cell_type": "code",
   "execution_count": null,
   "metadata": {},
   "outputs": [],
   "source": []
  }
 ],
 "metadata": {
  "kernelspec": {
   "display_name": "Python 3",
   "language": "python",
   "name": "python3"
  },
  "language_info": {
   "codemirror_mode": {
    "name": "ipython",
    "version": 3
   },
   "file_extension": ".py",
   "mimetype": "text/x-python",
   "name": "python",
   "nbconvert_exporter": "python",
   "pygments_lexer": "ipython3",
   "version": "3.7.7"
  }
 },
 "nbformat": 4,
 "nbformat_minor": 4
}
