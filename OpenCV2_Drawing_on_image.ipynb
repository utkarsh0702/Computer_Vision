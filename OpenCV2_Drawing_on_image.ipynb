{
 "cells": [
  {
   "cell_type": "code",
   "execution_count": 1,
   "metadata": {},
   "outputs": [],
   "source": [
    "import cv2\n",
    "import numpy as np"
   ]
  },
  {
   "cell_type": "code",
   "execution_count": 3,
   "metadata": {},
   "outputs": [],
   "source": [
    "#Drawing a line on the image\n",
    "img= cv2.imread('watch.jpg', cv2.IMREAD_COLOR)\n",
    "cv2.line(img, (0,0), (500,500), (255,0,0),15)\n",
    "cv2.imshow('Image with Line', img)\n",
    "cv2.waitKey(0)\n",
    "cv2.destroyAllWindows()"
   ]
  },
  {
   "cell_type": "code",
   "execution_count": 4,
   "metadata": {},
   "outputs": [],
   "source": [
    "#Drawing a rectangle on the image\n",
    "img= cv2.imread('watch.jpg', cv2.IMREAD_COLOR)\n",
    "cv2.rectangle(img, (100,100), (500,500), (0,255,0),5)\n",
    "cv2.imshow('Image with Rectangle', img)\n",
    "cv2.waitKey(0)\n",
    "cv2.destroyAllWindows()"
   ]
  },
  {
   "cell_type": "code",
   "execution_count": 5,
   "metadata": {},
   "outputs": [],
   "source": [
    "#Drawing a circle on the image\n",
    "img= cv2.imread('watch.jpg', cv2.IMREAD_COLOR)\n",
    "cv2.circle(img, (300,300), 100, (0,0,255),7)\n",
    "cv2.imshow('Image with Circle', img)\n",
    "cv2.waitKey(0)\n",
    "cv2.destroyAllWindows()"
   ]
  },
  {
   "cell_type": "code",
   "execution_count": 6,
   "metadata": {},
   "outputs": [],
   "source": [
    "#Drawing a polygon on the image\n",
    "img= cv2.imread('watch.jpg', cv2.IMREAD_COLOR)\n",
    "pts=np.array([[10,500],[100,100],[500,40],[400,400]])\n",
    "cv2.polylines(img, [pts],True, (0,255,255),5)\n",
    "cv2.imshow('Image with Polygon', img)\n",
    "cv2.waitKey(0)\n",
    "cv2.destroyAllWindows()"
   ]
  },
  {
   "cell_type": "code",
   "execution_count": 10,
   "metadata": {},
   "outputs": [],
   "source": [
    "#Writting some text on the image\n",
    "img= cv2.imread('watch.jpg', cv2.IMREAD_COLOR)\n",
    "font= cv2.FONT_HERSHEY_SIMPLEX\n",
    "cv2.putText(img, 'Utkarsh', (300,200), font, 5, (255,255,0), 5, cv2.LINE_AA)\n",
    "cv2.imshow('Image with Text', img)\n",
    "cv2.waitKey(0)\n",
    "cv2.destroyAllWindows()"
   ]
  },
  {
   "cell_type": "code",
   "execution_count": null,
   "metadata": {},
   "outputs": [],
   "source": []
  }
 ],
 "metadata": {
  "kernelspec": {
   "display_name": "Python 3",
   "language": "python",
   "name": "python3"
  },
  "language_info": {
   "codemirror_mode": {
    "name": "ipython",
    "version": 3
   },
   "file_extension": ".py",
   "mimetype": "text/x-python",
   "name": "python",
   "nbconvert_exporter": "python",
   "pygments_lexer": "ipython3",
   "version": "3.7.7"
  }
 },
 "nbformat": 4,
 "nbformat_minor": 4
}
