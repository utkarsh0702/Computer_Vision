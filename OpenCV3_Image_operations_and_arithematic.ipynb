{
 "cells": [
  {
   "cell_type": "code",
   "execution_count": 1,
   "metadata": {},
   "outputs": [],
   "source": [
    "import cv2\n",
    "import numpy as np"
   ]
  },
  {
   "cell_type": "markdown",
   "metadata": {},
   "source": [
    "### Image Operations"
   ]
  },
  {
   "cell_type": "code",
   "execution_count": 2,
   "metadata": {},
   "outputs": [
    {
     "name": "stdout",
     "output_type": "stream",
     "text": [
      "[ 92 101 151]\n",
      "[[[102 132 213]\n",
      "  [ 98 128 209]\n",
      "  [ 95 125 208]\n",
      "  ...\n",
      "  [122 151 220]\n",
      "  [ 95 123 188]\n",
      "  [ 94 124 183]]\n",
      "\n",
      " [[102 132 213]\n",
      "  [ 98 128 209]\n",
      "  [ 95 125 208]\n",
      "  ...\n",
      "  [109 140 209]\n",
      "  [115 146 209]\n",
      "  [101 133 192]]\n",
      "\n",
      " [[101 131 214]\n",
      "  [ 98 128 211]\n",
      "  [ 96 126 209]\n",
      "  ...\n",
      "  [ 83 116 185]\n",
      "  [109 142 205]\n",
      "  [ 82 117 173]]\n",
      "\n",
      " ...\n",
      "\n",
      " [[ 86 118 201]\n",
      "  [ 88 120 203]\n",
      "  [ 89 121 204]\n",
      "  ...\n",
      "  [168 162 163]\n",
      "  [134 126 127]\n",
      "  [ 68  60  61]]\n",
      "\n",
      " [[ 86 118 201]\n",
      "  [ 87 119 202]\n",
      "  [ 88 120 203]\n",
      "  ...\n",
      "  [ 74  68  69]\n",
      "  [146 138 139]\n",
      "  [175 167 168]]\n",
      "\n",
      " [[ 85 117 200]\n",
      "  [ 86 118 201]\n",
      "  [ 87 119 202]\n",
      "  ...\n",
      "  [  5   0   0]\n",
      "  [ 15   7   8]\n",
      "  [ 82  74  75]]]\n"
     ]
    }
   ],
   "source": [
    "img= cv2.imread('watch.jpg', 1)\n",
    "\n",
    "roi=img[1000,800]\n",
    "print(roi)\n",
    "roi= img[200:350, 200:350]\n",
    "print(roi)\n",
    "\n",
    "img[200:350, 200:350]=[255,255,255]\n",
    "cv2.imshow('Image',img)\n",
    "cv2.waitKey(0)\n",
    "cv2.destroyAllWindows()"
   ]
  },
  {
   "cell_type": "markdown",
   "metadata": {},
   "source": [
    "### Crating a copy of a portion"
   ]
  },
  {
   "cell_type": "code",
   "execution_count": 7,
   "metadata": {},
   "outputs": [],
   "source": [
    "img= cv2.imread('watch.jpg', 1)\n",
    "\n",
    "roi= img[200:700, 250:900]\n",
    "img[0:500,0:650]=roi\n",
    "\n",
    "cv2.imshow('Copy Portion Image',img)\n",
    "cv2.waitKey(0)\n",
    "cv2.destroyAllWindows()"
   ]
  },
  {
   "cell_type": "markdown",
   "metadata": {},
   "source": [
    "### Image Arithematic"
   ]
  },
  {
   "cell_type": "code",
   "execution_count": 10,
   "metadata": {},
   "outputs": [],
   "source": [
    "img1= cv2.imread('scatterplot2.jpg', 1)\n",
    "img2= cv2.imread('jvyv1.png', 1)\n",
    "\n",
    "#Resizing the image\n",
    "img1= cv2.resize(img1, (600,600), interpolation= cv2.INTER_CUBIC)\n",
    "img2= cv2.resize(img2, (600,600), interpolation= cv2.INTER_CUBIC)\n",
    "\n",
    "add= img1+img2\n",
    "\n",
    "cv2.imshow('Added Image',add)\n",
    "cv2.waitKey(0)\n",
    "cv2.destroyAllWindows()"
   ]
  },
  {
   "cell_type": "code",
   "execution_count": 11,
   "metadata": {},
   "outputs": [],
   "source": [
    "#Using cv2.add() function\n",
    "img1= cv2.imread('scatterplot2.jpg', 1)\n",
    "img2= cv2.imread('jvyv1.png', 1)\n",
    "\n",
    "#Resizing the image\n",
    "img1= cv2.resize(img1, (600,600), interpolation= cv2.INTER_CUBIC)\n",
    "img2= cv2.resize(img2, (600,600), interpolation= cv2.INTER_CUBIC)\n",
    "\n",
    "add= cv2.add(img1, img2)\n",
    "\n",
    "cv2.imshow('Added Image',add)\n",
    "cv2.waitKey(0)\n",
    "cv2.destroyAllWindows()"
   ]
  },
  {
   "cell_type": "code",
   "execution_count": 13,
   "metadata": {},
   "outputs": [],
   "source": [
    "#Using addWeighted() function\n",
    "img1= cv2.imread('scatterplot2.jpg', 1)\n",
    "img2= cv2.imread('jvyv1.png', 1)\n",
    "\n",
    "#Resizing the image\n",
    "img1= cv2.resize(img1, (600,600), interpolation= cv2.INTER_CUBIC)\n",
    "img2= cv2.resize(img2, (600,600), interpolation= cv2.INTER_CUBIC)\n",
    "\n",
    "add= cv2.addWeighted(img1, 0.6, img2, 0.4, 0)\n",
    "\n",
    "cv2.imshow('Added Image',add)\n",
    "cv2.waitKey(0)\n",
    "cv2.destroyAllWindows()"
   ]
  },
  {
   "cell_type": "markdown",
   "metadata": {},
   "source": [
    "# Add an Image to Another Image "
   ]
  },
  {
   "cell_type": "code",
   "execution_count": 18,
   "metadata": {},
   "outputs": [],
   "source": [
    "img1= cv2.imread('jvyv1.png', 1)\n",
    "img2= cv2.imread('python-logo.png', 1)\n",
    "\n",
    "img1= cv2.resize(img1, (1224,1624), interpolation= cv2.INTER_CUBIC)\n",
    "\n",
    "rows, columns, channel= img2.shape\n",
    "roi= img1[0:rows,0:columns]\n",
    "\n",
    "img2gray= cv2.cvtColor(img2, cv2.COLOR_BGR2GRAY)\n",
    "\n",
    "#thresholding the logo image\n",
    "ret, mask= cv2.threshold(img2gray, 220, 255, cv2.THRESH_BINARY_INV)\n",
    "cv2.imshow('Thresholded Image',mask)\n",
    "\n",
    "mask_inv= cv2.bitwise_not(mask)\n",
    "cv2.imshow('Mask INV Image',mask_inv)\n",
    "\n",
    "img1_bg= cv2.bitwise_and(roi, roi, mask=mask_inv)\n",
    "cv2.imshow('Image 1 Background',img1_bg)\n",
    "\n",
    "img2_fg= cv2.bitwise_and(img2, img2, mask=mask)\n",
    "cv2.imshow('Image 2 Foreground',img2_fg)\n",
    "\n",
    "dst= cv2.add(img1_bg, img2_fg)\n",
    "img1[0:rows,0:columns]= dst\n",
    "\n",
    "cv2.imshow('Logo Image before adding', dst)\n",
    "cv2.imshow('Added Image',img1)\n",
    "cv2.waitKey(0)\n",
    "cv2.destroyAllWindows()"
   ]
  },
  {
   "cell_type": "code",
   "execution_count": null,
   "metadata": {},
   "outputs": [],
   "source": []
  }
 ],
 "metadata": {
  "kernelspec": {
   "display_name": "Python 3",
   "language": "python",
   "name": "python3"
  },
  "language_info": {
   "codemirror_mode": {
    "name": "ipython",
    "version": 3
   },
   "file_extension": ".py",
   "mimetype": "text/x-python",
   "name": "python",
   "nbconvert_exporter": "python",
   "pygments_lexer": "ipython3",
   "version": "3.7.7"
  }
 },
 "nbformat": 4,
 "nbformat_minor": 4
}
