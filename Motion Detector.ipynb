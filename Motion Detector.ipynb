{
 "cells": [
  {
   "cell_type": "code",
   "execution_count": 1,
   "metadata": {},
   "outputs": [],
   "source": [
    "import cv2\n",
    "import numpy as np"
   ]
  },
  {
   "cell_type": "code",
   "execution_count": 5,
   "metadata": {},
   "outputs": [],
   "source": [
    "# Motion Tracker and Detector\n",
    "#1. Black screen detector\n",
    "cap= cv2.VideoCapture(0)\n",
    "cap.set(3,640)\n",
    "cap.set(4,480)\n",
    "if cap.isOpened():\n",
    "    ret,frame= cap.read()\n",
    "else:\n",
    "    ret= False\n",
    "\n",
    "ret, frame1= cap.read()\n",
    "ret, frame2= cap.read()\n",
    "while ret:\n",
    "    d= cv2.absdiff(frame1,frame2)\n",
    "    grey= cv2.cvtColor(d, cv2.COLOR_BGR2GRAY)\n",
    "    blur= cv2.GaussianBlur(grey, (5,5),0)\n",
    "    ret, thresh= cv2.threshold(blur, 20,255,cv2.THRESH_BINARY)\n",
    "    frame3= frame1\n",
    "    cv2.imshow(' Original Video Feed', frame2)\n",
    "    cv2.imshow(' Motion Video Feed', thresh)\n",
    "    if cv2.waitKey(1)==27:\n",
    "        break\n",
    "    frame1= frame2\n",
    "    ret, frame2= cap.read()\n",
    "    \n",
    "cv2.destroyAllWindows()\n",
    "cap.release()"
   ]
  },
  {
   "cell_type": "code",
   "execution_count": 4,
   "metadata": {},
   "outputs": [],
   "source": [
    "#1. Real screen detector\n",
    "cap= cv2.VideoCapture(0)\n",
    "cap.set(3,640)\n",
    "cap.set(4,480)\n",
    "if cap.isOpened():\n",
    "    ret,frame= cap.read()\n",
    "else:\n",
    "    ret= False\n",
    "\n",
    "ret, frame1= cap.read()\n",
    "ret, frame2= cap.read()\n",
    "while ret:\n",
    "    d= cv2.absdiff(frame1,frame2)\n",
    "    grey= cv2.cvtColor(d, cv2.COLOR_BGR2GRAY)\n",
    "    blur= cv2.GaussianBlur(grey, (5,5),0)\n",
    "    ret, thresh= cv2.threshold(blur, 20,255,cv2.THRESH_BINARY)\n",
    "    dilated= cv2.dilate(thresh, np.ones((3,3),np.uint8), iterations=3)\n",
    "    img,c,h= cv2.findContours(dilated, cv2.RETR_TREE, cv2.CHAIN_APPROX_SIMPLE)\n",
    "    cv2.drawContours(frame1,c,-1,(0,0,255),2)\n",
    "    \n",
    "    cv2.imshow(' Original Video Feed', frame2)\n",
    "    cv2.imshow(' Motion Video Feed', frame1)\n",
    "    if cv2.waitKey(1)==27:\n",
    "        break\n",
    "    frame1= frame2\n",
    "    ret, frame2= cap.read()\n",
    "    \n",
    "cv2.destroyAllWindows()\n",
    "cap.release()"
   ]
  },
  {
   "cell_type": "code",
   "execution_count": null,
   "metadata": {},
   "outputs": [],
   "source": []
  }
 ],
 "metadata": {
  "kernelspec": {
   "display_name": "Python 3",
   "language": "python",
   "name": "python3"
  },
  "language_info": {
   "codemirror_mode": {
    "name": "ipython",
    "version": 3
   },
   "file_extension": ".py",
   "mimetype": "text/x-python",
   "name": "python",
   "nbconvert_exporter": "python",
   "pygments_lexer": "ipython3",
   "version": "3.7.3"
  }
 },
 "nbformat": 4,
 "nbformat_minor": 2
}
