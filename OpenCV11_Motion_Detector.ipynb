{
 "cells": [
  {
   "cell_type": "code",
   "execution_count": 1,
   "metadata": {},
   "outputs": [],
   "source": [
    "import cv2\n",
    "import numpy as np"
   ]
  },
  {
   "cell_type": "markdown",
   "metadata": {},
   "source": [
    "### Using pre- built function"
   ]
  },
  {
   "cell_type": "code",
   "execution_count": 2,
   "metadata": {},
   "outputs": [],
   "source": [
    "cam= cv2.VideoCapture('vlc-record-2019-11-05-17h26m46s-rtsp___10.0.1.50_554_s0-.mp4')\n",
    "fgbg= cv2.createBackgroundSubtractorMOG2()\n",
    "\n",
    "while True:\n",
    "    ret, frame= cam.read()\n",
    "    if ret:\n",
    "        frame= cv2.resize(frame, (640,360), interpolation= cv2.INTER_AREA)\n",
    "        fgmask= fgbg.apply(frame)\n",
    "        \n",
    "        cv2.imshow('Video', frame)\n",
    "        cv2.imshow('Motion Detector', fgmask)\n",
    "        \n",
    "        if cv2.waitKey(1) & 0xFF== ord('q'):\n",
    "            break\n",
    "\n",
    "cv2.destroyAllWindows()\n",
    "cam.release()"
   ]
  },
  {
   "cell_type": "markdown",
   "metadata": {},
   "source": [
    "### Using self made detector"
   ]
  },
  {
   "cell_type": "code",
   "execution_count": 3,
   "metadata": {},
   "outputs": [],
   "source": [
    "cam= cv2.VideoCapture('vlc-record-2019-11-05-17h26m46s-rtsp___10.0.1.50_554_s0-.mp4')\n",
    "\n",
    "ret, frame1= cam.read()\n",
    "frame1= cv2.resize(frame1, (640,360), interpolation= cv2.INTER_AREA)\n",
    "while True:\n",
    "    ret, frame2= cam.read()\n",
    "    if ret:\n",
    "        frame2= cv2.resize(frame2, (640,360), interpolation= cv2.INTER_AREA)\n",
    "        d= cv2.absdiff(frame1, frame2)\n",
    "        grey= cv2.cvtColor(d, cv2.COLOR_BGR2GRAY)\n",
    "        blur= cv2.GaussianBlur(grey, (5,5),0)\n",
    "        ret, thresh= cv2.threshold(blur, 20,255,cv2.THRESH_BINARY)\n",
    "        \n",
    "        cv2.imshow('Video', frame1)\n",
    "        cv2.imshow('Motion Detector', thresh)\n",
    "        frame1= frame2\n",
    "        \n",
    "        if cv2.waitKey(1) & 0xFF== ord('q'):\n",
    "            break\n",
    "\n",
    "cv2.destroyAllWindows()\n",
    "cam.release()"
   ]
  },
  {
   "cell_type": "code",
   "execution_count": null,
   "metadata": {},
   "outputs": [],
   "source": []
  }
 ],
 "metadata": {
  "kernelspec": {
   "display_name": "Python 3",
   "language": "python",
   "name": "python3"
  },
  "language_info": {
   "codemirror_mode": {
    "name": "ipython",
    "version": 3
   },
   "file_extension": ".py",
   "mimetype": "text/x-python",
   "name": "python",
   "nbconvert_exporter": "python",
   "pygments_lexer": "ipython3",
   "version": "3.7.7"
  }
 },
 "nbformat": 4,
 "nbformat_minor": 4
}
