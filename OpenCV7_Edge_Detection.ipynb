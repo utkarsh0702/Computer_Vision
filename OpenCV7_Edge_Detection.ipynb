{
 "cells": [
  {
   "cell_type": "code",
   "execution_count": 1,
   "metadata": {},
   "outputs": [],
   "source": [
    "import cv2"
   ]
  },
  {
   "cell_type": "markdown",
   "metadata": {},
   "source": [
    "### Laplacian on Video Feed"
   ]
  },
  {
   "cell_type": "code",
   "execution_count": 6,
   "metadata": {},
   "outputs": [],
   "source": [
    "cam= cv2.VideoCapture(0)\n",
    "\n",
    "while True:\n",
    "    _, frame= cam.read()\n",
    "    laplacian= cv2.Laplacian(frame, cv2.CV_64F)\n",
    "    \n",
    "    cv2.imshow('Video', frame)\n",
    "    cv2.imshow('Laplacian', laplacian)\n",
    "    \n",
    "    if cv2.waitKey(1) & 0xFF==ord('q'):\n",
    "        break\n",
    "\n",
    "\n",
    "cam.release()\n",
    "cv2.destroyAllWindows()"
   ]
  },
  {
   "cell_type": "markdown",
   "metadata": {},
   "source": [
    "### Sobel Filter in Video Feed"
   ]
  },
  {
   "cell_type": "code",
   "execution_count": 7,
   "metadata": {},
   "outputs": [],
   "source": [
    "cam= cv2.VideoCapture(0)\n",
    "\n",
    "while True:\n",
    "    _, frame= cam.read()\n",
    "    sobelx= cv2.Sobel(frame, cv2.CV_64F, 1, 0, ksize=5)\n",
    "    sobely= cv2.Sobel(frame, cv2.CV_64F, 0, 1, ksize=5)\n",
    "    \n",
    "    cv2.imshow('Video', frame)\n",
    "    cv2.imshow('SobelX', sobelx)\n",
    "    cv2.imshow('SobelY', sobely)\n",
    "    \n",
    "    if cv2.waitKey(1) & 0xFF==ord('q'):\n",
    "        break\n",
    "\n",
    "\n",
    "cam.release()\n",
    "cv2.destroyAllWindows()"
   ]
  },
  {
   "cell_type": "markdown",
   "metadata": {},
   "source": [
    "### Canny Edge Detection using Video Feed"
   ]
  },
  {
   "cell_type": "code",
   "execution_count": 13,
   "metadata": {},
   "outputs": [],
   "source": [
    "cam= cv2.VideoCapture(0)\n",
    "\n",
    "while True:\n",
    "    _, frame= cam.read()\n",
    "    canny= cv2.Canny(frame, 50, 150)\n",
    "    \n",
    "    cv2.imshow('Video', frame)\n",
    "    cv2.imshow('Canny', canny)\n",
    "    \n",
    "    if cv2.waitKey(1) & 0xFF==ord('q'):\n",
    "        break\n",
    "\n",
    "\n",
    "cam.release()\n",
    "cv2.destroyAllWindows()"
   ]
  },
  {
   "cell_type": "code",
   "execution_count": null,
   "metadata": {},
   "outputs": [],
   "source": []
  }
 ],
 "metadata": {
  "kernelspec": {
   "display_name": "Python 3",
   "language": "python",
   "name": "python3"
  },
  "language_info": {
   "codemirror_mode": {
    "name": "ipython",
    "version": 3
   },
   "file_extension": ".py",
   "mimetype": "text/x-python",
   "name": "python",
   "nbconvert_exporter": "python",
   "pygments_lexer": "ipython3",
   "version": "3.7.7"
  }
 },
 "nbformat": 4,
 "nbformat_minor": 4
}
