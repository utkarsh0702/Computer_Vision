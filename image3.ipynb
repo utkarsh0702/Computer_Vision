{
 "cells": [
  {
   "cell_type": "code",
   "execution_count": 1,
   "metadata": {},
   "outputs": [],
   "source": [
    "import cv2"
   ]
  },
  {
   "cell_type": "code",
   "execution_count": null,
   "metadata": {},
   "outputs": [],
   "source": [
    "#Median blur\n",
    "pic= cv2.imread(r'C:\\Users\\Utkarsh\\Desktop\\images (1).jpeg')\n",
    "cv2.imshow('Original Pic', pic)\n",
    "kernal=3\n",
    "med= cv2.medianBlur(pic,kernal)\n",
    "cv2.imshow('Median blur', med)\n",
    "cv2.waitKey(0)\n",
    "cv2.destroyAllWindows()"
   ]
  },
  {
   "cell_type": "code",
   "execution_count": null,
   "metadata": {},
   "outputs": [],
   "source": [
    "#Bilateral filter\n",
    "pic= cv2.imread(r'C:\\Users\\Utkarsh\\Desktop\\images (1).jpeg')\n",
    "cv2.imshow('Original Pic', pic)\n",
    "dimpixel=7\n",
    "space=100\n",
    "color=100\n",
    "fil= cv2.bilateralFilter(pic,dimpixel,color,space)\n",
    "cv2.imshow('Bilateral Filter', fil)\n",
    "cv2.waitKey(0)\n",
    "cv2.destroyAllWindows()"
   ]
  },
  {
   "cell_type": "code",
   "execution_count": null,
   "metadata": {},
   "outputs": [],
   "source": [
    "#Feature Detection\n",
    "pic= cv2.imread(r'C:\\Users\\Utkarsh\\Desktop\\images (1).jpeg')\n",
    "cv2.imshow('Original Pic', pic)\n",
    "th1=50\n",
    "th2=100\n",
    "canny= cv2.Canny(pic, th1,th2)\n",
    "cv2.imshow('Canny Detection', canny)\n",
    "cv2.waitKey(0)\n",
    "cv2.destroyAllWindows()"
   ]
  },
  {
   "cell_type": "code",
   "execution_count": null,
   "metadata": {},
   "outputs": [],
   "source": [
    "#Stream a video\n",
    "cap= cv2.VideoCapture(r'D:\\OpenCV\\1.mp4')\n",
    "while(cap.isOpened()):\n",
    "    ret,frame= cap.read()\n",
    "    cv2.imshow('Video', frame)\n",
    "    if(cv2.waitKey(1)& 0xFF==ord('q')):\n",
    "        break\n",
    "cap.release()\n",
    "cv2.destroyAllWindows()"
   ]
  },
  {
   "cell_type": "code",
   "execution_count": null,
   "metadata": {},
   "outputs": [],
   "source": []
  }
 ],
 "metadata": {
  "kernelspec": {
   "display_name": "Python 3",
   "language": "python",
   "name": "python3"
  },
  "language_info": {
   "codemirror_mode": {
    "name": "ipython",
    "version": 3
   },
   "file_extension": ".py",
   "mimetype": "text/x-python",
   "name": "python",
   "nbconvert_exporter": "python",
   "pygments_lexer": "ipython3",
   "version": "3.6.6"
  }
 },
 "nbformat": 4,
 "nbformat_minor": 2
}
