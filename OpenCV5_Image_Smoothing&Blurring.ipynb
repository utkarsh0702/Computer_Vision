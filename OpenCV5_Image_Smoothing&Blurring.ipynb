{
 "cells": [
  {
   "cell_type": "code",
   "execution_count": 1,
   "metadata": {},
   "outputs": [],
   "source": [
    "import cv2\n",
    "import numpy as np"
   ]
  },
  {
   "cell_type": "markdown",
   "metadata": {},
   "source": [
    "### Bluring from self made kernal"
   ]
  },
  {
   "cell_type": "code",
   "execution_count": 2,
   "metadata": {},
   "outputs": [],
   "source": [
    "img= cv2.imread('watch.jpg')\n",
    "kernal= np.ones((15,15), np.float32)/225\n",
    "smooth= cv2.filter2D(img, -1, kernal)\n",
    "cv2.imshow('Original Image',img)\n",
    "cv2.imshow('Smoothened Image',smooth)\n",
    "cv2.waitKey(0)\n",
    "cv2.destroyAllWindows()"
   ]
  },
  {
   "cell_type": "markdown",
   "metadata": {},
   "source": [
    "### Gaussian Blur"
   ]
  },
  {
   "cell_type": "code",
   "execution_count": 3,
   "metadata": {},
   "outputs": [],
   "source": [
    "img= cv2.imread('watch.jpg')\n",
    "\n",
    "blur= cv2.GaussianBlur(img, (15,15),0)\n",
    "\n",
    "cv2.imshow('Original Image',img)\n",
    "cv2.imshow('Blured Image',blur)\n",
    "cv2.waitKey(0)\n",
    "cv2.destroyAllWindows()"
   ]
  },
  {
   "cell_type": "markdown",
   "metadata": {},
   "source": [
    "### Median Blur"
   ]
  },
  {
   "cell_type": "code",
   "execution_count": 4,
   "metadata": {},
   "outputs": [],
   "source": [
    "img= cv2.imread('watch.jpg')\n",
    "\n",
    "blur= cv2.medianBlur(img, 15)\n",
    "\n",
    "cv2.imshow('Original Image',img)\n",
    "cv2.imshow('Blured Image',blur)\n",
    "cv2.waitKey(0)\n",
    "cv2.destroyAllWindows()"
   ]
  },
  {
   "cell_type": "markdown",
   "metadata": {},
   "source": [
    "### Bilateral Blur"
   ]
  },
  {
   "cell_type": "code",
   "execution_count": 5,
   "metadata": {},
   "outputs": [],
   "source": [
    "img= cv2.imread('watch.jpg')\n",
    "\n",
    "blur= cv2.bilateralFilter(img, 15, 75, 75)\n",
    "\n",
    "cv2.imshow('Original Image',img)\n",
    "cv2.imshow('Blured Image',blur)\n",
    "cv2.waitKey(0)\n",
    "cv2.destroyAllWindows()"
   ]
  },
  {
   "cell_type": "code",
   "execution_count": null,
   "metadata": {},
   "outputs": [],
   "source": []
  }
 ],
 "metadata": {
  "kernelspec": {
   "display_name": "Python 3",
   "language": "python",
   "name": "python3"
  },
  "language_info": {
   "codemirror_mode": {
    "name": "ipython",
    "version": 3
   },
   "file_extension": ".py",
   "mimetype": "text/x-python",
   "name": "python",
   "nbconvert_exporter": "python",
   "pygments_lexer": "ipython3",
   "version": "3.7.7"
  }
 },
 "nbformat": 4,
 "nbformat_minor": 4
}
