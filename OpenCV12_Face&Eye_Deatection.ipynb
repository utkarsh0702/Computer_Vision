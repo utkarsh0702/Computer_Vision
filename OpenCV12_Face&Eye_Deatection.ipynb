{
 "cells": [
  {
   "cell_type": "code",
   "execution_count": 1,
   "metadata": {
    "scrolled": true
   },
   "outputs": [],
   "source": [
    "import cv2"
   ]
  },
  {
   "cell_type": "markdown",
   "metadata": {},
   "source": [
    "### Face and Eyes Detection using Haar Cascade"
   ]
  },
  {
   "cell_type": "code",
   "execution_count": 5,
   "metadata": {},
   "outputs": [],
   "source": [
    "face_cascade= cv2.CascadeClassifier('haarcascade_frontalface_default.xml')\n",
    "eye_cascade= cv2.CascadeClassifier('haarcascade_eye.xml')\n",
    "\n",
    "cam= cv2.VideoCapture(0)\n",
    "\n",
    "while True:\n",
    "    _, frame= cam.read()\n",
    "    \n",
    "    gray= cv2.cvtColor(frame, cv2.COLOR_BGR2GRAY)\n",
    "    faces= face_cascade.detectMultiScale(gray, 1.3, 5)\n",
    "    for (x,y,w,h) in faces:\n",
    "        cv2.rectangle(frame, (x,y), (x+w,y+h), (255,0,0), 3)\n",
    "        roi_gray= gray[y:y+h, x:x+w]\n",
    "        roi= frame[y:y+h, x:x+w]\n",
    "        eyes= eye_cascade.detectMultiScale(roi_gray)\n",
    "        for (a,b,c,d) in eyes:\n",
    "            cv2.rectangle(roi, (a,b), (a+c,b+d), (0,255,0), 3)\n",
    "    \n",
    "    cv2.imshow('Detection',frame)\n",
    "    if cv2.waitKey(0) & 0xFF== ord('q'):\n",
    "        break;\n",
    "\n",
    "cv2.destroyAllWindows()\n",
    "cam.release()\n",
    "        "
   ]
  },
  {
   "cell_type": "code",
   "execution_count": null,
   "metadata": {},
   "outputs": [],
   "source": []
  }
 ],
 "metadata": {
  "kernelspec": {
   "display_name": "Python 3",
   "language": "python",
   "name": "python3"
  },
  "language_info": {
   "codemirror_mode": {
    "name": "ipython",
    "version": 3
   },
   "file_extension": ".py",
   "mimetype": "text/x-python",
   "name": "python",
   "nbconvert_exporter": "python",
   "pygments_lexer": "ipython3",
   "version": "3.7.7"
  }
 },
 "nbformat": 4,
 "nbformat_minor": 4
}
