{
 "cells": [
  {
   "cell_type": "code",
   "execution_count": 3,
   "metadata": {},
   "outputs": [],
   "source": [
    "import cv2\n",
    "import numpy as np"
   ]
  },
  {
   "cell_type": "markdown",
   "metadata": {},
   "source": [
    "### Detection of green objects"
   ]
  },
  {
   "cell_type": "code",
   "execution_count": 14,
   "metadata": {},
   "outputs": [],
   "source": [
    "cam= cv2.VideoCapture(0)\n",
    "\n",
    "while True:\n",
    "    _, frame= cam.read()\n",
    "    hsv= cv2.cvtColor(frame, cv2.COLOR_BGR2HSV)\n",
    "    lower= np.array([40,50,40])\n",
    "    higher= np.array([150,255,150])\n",
    "    mask= cv2.inRange(hsv, lower, higher)\n",
    "    \n",
    "    cv2.imshow('Video', frame)\n",
    "    cv2.imshow('Mask', mask)\n",
    "    if cv2.waitKey(1) & 0xFF==ord('q'):\n",
    "        break\n",
    "\n",
    "cam.release()\n",
    "cv2.destroyAllWindows()"
   ]
  },
  {
   "cell_type": "markdown",
   "metadata": {},
   "source": [
    "### Erosion in video feed"
   ]
  },
  {
   "cell_type": "code",
   "execution_count": 15,
   "metadata": {},
   "outputs": [],
   "source": [
    "cam= cv2.VideoCapture(0)\n",
    "\n",
    "kernal= np.ones((5,5), np.uint8)\n",
    "\n",
    "while True:\n",
    "    _, frame= cam.read()\n",
    "    hsv= cv2.cvtColor(frame, cv2.COLOR_BGR2HSV)\n",
    "    lower= np.array([40,50,40])\n",
    "    higher= np.array([150,255,150])\n",
    "    mask= cv2.inRange(hsv, lower, higher)\n",
    "    erode= cv2.erode(mask, kernal, iterations=1)\n",
    "    \n",
    "    cv2.imshow('Video', frame)\n",
    "    cv2.imshow('Mask', mask)\n",
    "    cv2.imshow('Erode', erode)\n",
    "    if cv2.waitKey(1) & 0xFF==ord('q'):\n",
    "        break\n",
    "\n",
    "cam.release()\n",
    "cv2.destroyAllWindows()"
   ]
  },
  {
   "cell_type": "markdown",
   "metadata": {},
   "source": [
    "### Dilation in Video Feed"
   ]
  },
  {
   "cell_type": "code",
   "execution_count": 16,
   "metadata": {},
   "outputs": [],
   "source": [
    "cam= cv2.VideoCapture(0)\n",
    "\n",
    "kernal= np.ones((5,5), np.uint8)\n",
    "\n",
    "while True:\n",
    "    _, frame= cam.read()\n",
    "    hsv= cv2.cvtColor(frame, cv2.COLOR_BGR2HSV)\n",
    "    lower= np.array([40,50,40])\n",
    "    higher= np.array([150,255,150])\n",
    "    mask= cv2.inRange(hsv, lower, higher)\n",
    "    dilate= cv2.dilate(mask, kernal, iterations=1)\n",
    "    \n",
    "    cv2.imshow('Video', frame)\n",
    "    cv2.imshow('Mask', mask)\n",
    "    cv2.imshow('Dilate', dilate)\n",
    "    if cv2.waitKey(1) & 0xFF==ord('q'):\n",
    "        break\n",
    "\n",
    "cam.release()\n",
    "cv2.destroyAllWindows()"
   ]
  },
  {
   "cell_type": "markdown",
   "metadata": {},
   "source": [
    "### Opening and Closing on video feed"
   ]
  },
  {
   "cell_type": "code",
   "execution_count": 17,
   "metadata": {},
   "outputs": [],
   "source": [
    "cam= cv2.VideoCapture(0)\n",
    "\n",
    "kernal= np.ones((5,5), np.uint8)\n",
    "\n",
    "while True:\n",
    "    _, frame= cam.read()\n",
    "    hsv= cv2.cvtColor(frame, cv2.COLOR_BGR2HSV)\n",
    "    lower= np.array([40,50,40])\n",
    "    higher= np.array([150,255,150])\n",
    "    mask= cv2.inRange(hsv, lower, higher)\n",
    "    \n",
    "    opening= cv2.morphologyEx(mask, cv2.MORPH_OPEN, kernal)\n",
    "    closing= cv2.morphologyEx(mask, cv2.MORPH_CLOSE, kernal)\n",
    "    \n",
    "    cv2.imshow('Mask', mask)\n",
    "    cv2.imshow('Opening', opening)\n",
    "    cv2.imshow('Closing', closing)\n",
    "    if cv2.waitKey(1) & 0xFF==ord('q'):\n",
    "        break\n",
    "\n",
    "cam.release()\n",
    "cv2.destroyAllWindows()"
   ]
  },
  {
   "cell_type": "code",
   "execution_count": null,
   "metadata": {},
   "outputs": [],
   "source": []
  }
 ],
 "metadata": {
  "kernelspec": {
   "display_name": "Python 3",
   "language": "python",
   "name": "python3"
  },
  "language_info": {
   "codemirror_mode": {
    "name": "ipython",
    "version": 3
   },
   "file_extension": ".py",
   "mimetype": "text/x-python",
   "name": "python",
   "nbconvert_exporter": "python",
   "pygments_lexer": "ipython3",
   "version": "3.7.7"
  }
 },
 "nbformat": 4,
 "nbformat_minor": 4
}
