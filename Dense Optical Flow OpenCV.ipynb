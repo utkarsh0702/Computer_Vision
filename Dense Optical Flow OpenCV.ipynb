{
 "cells": [
  {
   "cell_type": "code",
   "execution_count": 1,
   "metadata": {},
   "outputs": [],
   "source": [
    "import cv2\n",
    "import numpy as np"
   ]
  },
  {
   "cell_type": "code",
   "execution_count": 3,
   "metadata": {},
   "outputs": [],
   "source": [
    "cam= cv2.VideoCapture('Chaplin dance.mp4')\n",
    "ret, first_frame= cam.read()\n",
    "prev_gray= cv2.cvtColor(first_frame, cv2.COLOR_BGR2GRAY)\n",
    "\n",
    "mask= np.zeros_like(first_frame)\n",
    "#Saturation to maximum\n",
    "mask[...,1]=255\n",
    "\n",
    "while cam.isOpened():\n",
    "    ret, frame= cam.read()\n",
    "    cv2.imshow('Video', frame)\n",
    "    gray= cv2.cvtColor(frame, cv2.COLOR_BGR2GRAY)\n",
    "    \n",
    "    #Calculate dense optical flow by farneback\n",
    "    flow= cv2.calcOpticalFlowFarneback(prev_gray, gray, None, 0.5, 3, 15, 3, 5, 1.2, 0)\n",
    "    \n",
    "    #Computer magnitude and angle\n",
    "    magni, angle= cv2.cartToPolar(flow[...,0], flow[...,1])\n",
    "    \n",
    "    #set image hue to depending optical flow\n",
    "    mask[...,0]= angle*180/ (np.pi)**2\n",
    "    \n",
    "    #normalize the magnitude\n",
    "    mask[...,2]= cv2.normalize(magni, None, 0, 255, cv2.NORM_MINMAX)\n",
    "    \n",
    "    #convert hsv to bgr\n",
    "    bgr= cv2.cvtColor(mask, cv2.COLOR_HSV2BGR)\n",
    "    \n",
    "    cv2.imshow('Dense Optical Flow', bgr)\n",
    "    #update previous frame\n",
    "    prev_gray= gray\n",
    "    \n",
    "    if cv2.waitKey(30) & 0xFF==ord('q'):\n",
    "        break\n",
    "\n",
    "cv2.destroyAllWindows()\n",
    "cam.release()"
   ]
  },
  {
   "cell_type": "code",
   "execution_count": null,
   "metadata": {},
   "outputs": [],
   "source": []
  }
 ],
 "metadata": {
  "kernelspec": {
   "display_name": "Python 3",
   "language": "python",
   "name": "python3"
  },
  "language_info": {
   "codemirror_mode": {
    "name": "ipython",
    "version": 3
   },
   "file_extension": ".py",
   "mimetype": "text/x-python",
   "name": "python",
   "nbconvert_exporter": "python",
   "pygments_lexer": "ipython3",
   "version": "3.7.7"
  }
 },
 "nbformat": 4,
 "nbformat_minor": 4
}
