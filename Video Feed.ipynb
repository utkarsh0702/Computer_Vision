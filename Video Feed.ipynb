{
 "cells": [
  {
   "cell_type": "code",
   "execution_count": 1,
   "metadata": {},
   "outputs": [],
   "source": [
    "import cv2"
   ]
  },
  {
   "cell_type": "code",
   "execution_count": 2,
   "metadata": {},
   "outputs": [],
   "source": [
    "# Video feed \n",
    "cap= cv2.VideoCapture(0)\n",
    "cv2.namedWindow('Live Video Feed')\n",
    "if cap.isOpened():\n",
    "    ret, frame= cap.read()\n",
    "else:\n",
    "    ret = False\n",
    "\n",
    "while ret:\n",
    "    ret, frame= cap.read()\n",
    "    cv2.imshow('Live Video Feed', frame)\n",
    "    if cv2.waitKey(1)==27:\n",
    "        break\n",
    "\n",
    "cv2.destroyAllWindows()\n",
    "cap.release()"
   ]
  },
  {
   "cell_type": "code",
   "execution_count": 5,
   "metadata": {},
   "outputs": [],
   "source": [
    "# Video feed in grey \n",
    "cap= cv2.VideoCapture(0)\n",
    "cv2.namedWindow('Live Video Feed')\n",
    "if cap.isOpened():\n",
    "    ret, frame= cap.read()\n",
    "else:\n",
    "    ret = False\n",
    "\n",
    "while ret:\n",
    "    ret, frame= cap.read()\n",
    "    output= cv2.cvtColor(frame, cv2.COLOR_BGR2GRAY)\n",
    "    cv2.imshow('Grey Video Feed', output)\n",
    "    if cv2.waitKey(1)==27:\n",
    "        break\n",
    "\n",
    "cv2.destroyAllWindows()\n",
    "cap.release()"
   ]
  },
  {
   "cell_type": "code",
   "execution_count": 7,
   "metadata": {},
   "outputs": [
    {
     "name": "stdout",
     "output_type": "stream",
     "text": [
      "Width: 640.0\n",
      "Height: 480.0\n",
      "Width: 1280.0\n",
      "Height: 720.0\n"
     ]
    }
   ],
   "source": [
    "# changing the resolution of the camera feed\n",
    "cap= cv2.VideoCapture(0)\n",
    "cv2.namedWindow('Live Video Feed')\n",
    "print('Width: '+str(cap.get(3)))\n",
    "print('Height: '+str(cap.get(4)))\n",
    "cap.set(3, 1200)\n",
    "cap.set(4, 900)\n",
    "print('Width: '+str(cap.get(3)))\n",
    "print('Height: '+str(cap.get(4)))\n",
    "if cap.isOpened():\n",
    "    ret, frame= cap.read()\n",
    "else:\n",
    "    ret = False\n",
    "\n",
    "while ret:\n",
    "    ret, frame= cap.read()\n",
    "    cv2.imshow('Live Video Feed', frame)\n",
    "    if cv2.waitKey(1)==27:\n",
    "        break\n",
    "\n",
    "cv2.destroyAllWindows()\n",
    "cap.release()"
   ]
  },
  {
   "cell_type": "code",
   "execution_count": 12,
   "metadata": {},
   "outputs": [],
   "source": [
    "#Video Recording in a file\n",
    "cap= cv2.VideoCapture(0)\n",
    "cv2.namedWindow('Live Video Feed')\n",
    "file= r'C:\\Users\\Utkarsh\\Desktop\\live_video.avi'\n",
    "codec= cv2.VideoWriter_fourcc('X','V','I','D')\n",
    "framerate=15\n",
    "resolution=(640,480)\n",
    "videofile= cv2.VideoWriter(file,codec,framerate, resolution)\n",
    "\n",
    "if cap.isOpened():\n",
    "    ret, frame= cap.read()\n",
    "else:\n",
    "    ret = False\n",
    "\n",
    "while ret:\n",
    "    ret, frame= cap.read()\n",
    "    videofile.write(frame)\n",
    "    cv2.imshow('Live Video Feed', frame)\n",
    "    if cv2.waitKey(1)==27:\n",
    "        break\n",
    "\n",
    "cv2.destroyAllWindows()\n",
    "cap.release()"
   ]
  },
  {
   "cell_type": "code",
   "execution_count": 15,
   "metadata": {},
   "outputs": [],
   "source": [
    "#Video Player\n",
    "cv2.namedWindow('Video Player')\n",
    "cap= cv2.VideoCapture(r'C:\\Users\\Utkarsh\\Desktop\\live_video.avi')\n",
    "while cap.isOpened():\n",
    "    ret, frame= cap.read()\n",
    "    if ret:\n",
    "        cv2.imshow('Video Player', frame)\n",
    "        if cv2.waitKey(50)==27:\n",
    "            break\n",
    "    else:\n",
    "        break\n",
    "cv2.destroyAllWindows()\n",
    "cap.release()"
   ]
  },
  {
   "cell_type": "code",
   "execution_count": null,
   "metadata": {},
   "outputs": [],
   "source": []
  }
 ],
 "metadata": {
  "kernelspec": {
   "display_name": "Python 3",
   "language": "python",
   "name": "python3"
  },
  "language_info": {
   "codemirror_mode": {
    "name": "ipython",
    "version": 3
   },
   "file_extension": ".py",
   "mimetype": "text/x-python",
   "name": "python",
   "nbconvert_exporter": "python",
   "pygments_lexer": "ipython3",
   "version": "3.6.6"
  }
 },
 "nbformat": 4,
 "nbformat_minor": 2
}
