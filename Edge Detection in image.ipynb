{
 "cells": [
  {
   "cell_type": "code",
   "execution_count": 1,
   "metadata": {},
   "outputs": [],
   "source": [
    "import cv2\n",
    "import matplotlib.pyplot as plt"
   ]
  },
  {
   "cell_type": "code",
   "execution_count": 15,
   "metadata": {},
   "outputs": [],
   "source": [
    "#Laplacian way to detect the edge\n",
    "img= cv2.imread(r'C:\\Users\\Utkarsh\\Desktop\\beautiful_scenery_04_hd_pictures_166258.jpg',0)\n",
    "edge= cv2.Laplacian(img, -1, ksize= 31, scale=1, delta=0, borderType= cv2.BORDER_DEFAULT)\n",
    "title=['Original','Edged Image']\n",
    "image=[img, edge]\n",
    "for i in range(2):\n",
    "    cv2.imshow(title[i], image[i])\n",
    "cv2.waitKey(0)\n",
    "cv2.destroyAllWindows()"
   ]
  },
  {
   "cell_type": "code",
   "execution_count": 16,
   "metadata": {},
   "outputs": [],
   "source": [
    "#Sobel way to detect the edge\n",
    "img= cv2.imread(r'C:\\Users\\Utkarsh\\Desktop\\beautiful_scenery_04_hd_pictures_166258.jpg',0)\n",
    "edgex= cv2.Sobel(img, -1, dx=1, dy=0, ksize= 11, scale=1, delta=0, borderType= cv2.BORDER_DEFAULT)\n",
    "edgey= cv2.Sobel(img, -1, dx=0, dy=1, ksize= 11, scale=1, delta=0, borderType= cv2.BORDER_DEFAULT)\n",
    "edge= edgex+edgey\n",
    "title=['Original','Edged Image of X','Edged Image of Y','Edged Image']\n",
    "image=[img, edgex, edgey, edge]\n",
    "for i in range(4):\n",
    "    cv2.imshow(title[i], image[i])\n",
    "cv2.waitKey(0)\n",
    "cv2.destroyAllWindows()"
   ]
  },
  {
   "cell_type": "code",
   "execution_count": 14,
   "metadata": {},
   "outputs": [],
   "source": [
    "#Sobel way to detect the edge\n",
    "img= cv2.imread(r'C:\\Users\\Utkarsh\\Desktop\\beautiful_scenery_04_hd_pictures_166258.jpg',0)\n",
    "edgex= cv2.Scharr(img, -1, dx=1, dy=0, scale=1, delta=0, borderType= cv2.BORDER_DEFAULT)\n",
    "edgey= cv2.Scharr(img, -1, dx=0, dy=1, scale=1, delta=0, borderType= cv2.BORDER_DEFAULT)\n",
    "edge= edgex+edgey\n",
    "title=['Original','Edged Image of X','Edged Image of Y','Edged Image']\n",
    "image=[img, edgex, edgey, edge]\n",
    "for i in range(4):\n",
    "    cv2.imshow(title[i], image[i])\n",
    "cv2.waitKey(0)\n",
    "cv2.destroyAllWindows()"
   ]
  },
  {
   "cell_type": "code",
   "execution_count": 2,
   "metadata": {},
   "outputs": [],
   "source": [
    "# Canny Edge Detection Algorithm\n",
    "img= cv2.imread(r'C:\\Users\\Utkarsh\\Desktop\\beautiful_scenery_04_hd_pictures_166258.jpg',0)\n",
    "l1= cv2.Canny(img,100,150,L2gradient=False)\n",
    "l2= cv2.Canny(img,100,150,L2gradient=True)\n",
    "title=['Original','L1 Gradient of the Canny Algo','L2 Gradient of the Canny Algo']\n",
    "image=[img, l1, l2]\n",
    "for i in range(3):\n",
    "    cv2.imshow(title[i], image[i])\n",
    "cv2.waitKey(0)\n",
    "cv2.destroyAllWindows()"
   ]
  },
  {
   "cell_type": "code",
   "execution_count": null,
   "metadata": {},
   "outputs": [],
   "source": []
  }
 ],
 "metadata": {
  "kernelspec": {
   "display_name": "Python 3",
   "language": "python",
   "name": "python3"
  },
  "language_info": {
   "codemirror_mode": {
    "name": "ipython",
    "version": 3
   },
   "file_extension": ".py",
   "mimetype": "text/x-python",
   "name": "python",
   "nbconvert_exporter": "python",
   "pygments_lexer": "ipython3",
   "version": "3.7.3"
  }
 },
 "nbformat": 4,
 "nbformat_minor": 2
}
