{
 "cells": [
  {
   "cell_type": "code",
   "execution_count": 1,
   "metadata": {},
   "outputs": [],
   "source": [
    "import cv2\n",
    "import numpy as np"
   ]
  },
  {
   "cell_type": "code",
   "execution_count": 2,
   "metadata": {},
   "outputs": [],
   "source": [
    "#Read an image and  show it\n",
    "pic= cv2.imread(r'C:\\Users\\Utkarsh\\Desktop\\images (1).jpeg')\n",
    "cv2.imshow('Original Img', pic)\n",
    "cv2.waitKey(0)\n",
    "cv2.destroyAllWindows()"
   ]
  },
  {
   "cell_type": "code",
   "execution_count": 3,
   "metadata": {},
   "outputs": [],
   "source": [
    "#Read an image and  show it in black and white\n",
    "pic= cv2.imread(r'C:\\Users\\Utkarsh\\Desktop\\images (1).jpeg', 0)\n",
    "cv2.imshow('Original Img', pic)\n",
    "cv2.waitKey(0)\n",
    "cv2.destroyAllWindows()"
   ]
  },
  {
   "cell_type": "code",
   "execution_count": null,
   "metadata": {},
   "outputs": [],
   "source": [
    "#Read an image and save the same image with another name\n",
    "pic= cv2.imread(r'C:\\Users\\Utkarsh\\Desktop\\images (1).jpeg')\n",
    "pic2= cv2.imread(r'C:\\Users\\Utkarsh\\Desktop\\Utkarsh.png')\n",
    "cv2.imshow('Original Img', pic)\n",
    "cv2.imshow('New Img', pic2)\n",
    "cv2.waitKey(0)\n",
    "cv2.destroyAllWindows()"
   ]
  },
  {
   "cell_type": "code",
   "execution_count": 6,
   "metadata": {},
   "outputs": [],
   "source": [
    "#create a rectangle on a black background\n",
    "pic= np.zeros((500,500,3), dtype='uint8')\n",
    "cv2.rectangle(pic, (0,0),(500,150),(123,200,98),3, lineType= 8, shift=0)\n",
    "cv2.imshow('Rectangle', pic)\n",
    "cv2.waitKey(0)\n",
    "cv2.destroyAllWindows()"
   ]
  },
  {
   "cell_type": "code",
   "execution_count": 7,
   "metadata": {},
   "outputs": [],
   "source": [
    "#create a line on a black background\n",
    "pic= np.zeros((500,500,3), dtype='uint8')\n",
    "cv2.line(pic, (350,350),(500,500),(0,0,255))\n",
    "cv2.imshow('Line', pic)\n",
    "cv2.waitKey(0)\n",
    "cv2.destroyAllWindows()"
   ]
  },
  {
   "cell_type": "code",
   "execution_count": 9,
   "metadata": {},
   "outputs": [],
   "source": [
    "#create a circle on a black background\n",
    "pic= np.zeros((500,500,3), dtype='uint8')\n",
    "cv2.circle(pic, (250,250),100,(255,0,255))\n",
    "cv2.imshow('Circle', pic)\n",
    "cv2.waitKey(0)\n",
    "cv2.destroyAllWindows()"
   ]
  },
  {
   "cell_type": "code",
   "execution_count": 10,
   "metadata": {},
   "outputs": [],
   "source": [
    "#write a text on a black background\n",
    "pic= np.zeros((500,500,3), dtype='uint8')\n",
    "# for the font of the text\n",
    "font= cv2.FONT_HERSHEY_DUPLEX\n",
    "cv2.putText(pic, 'Utkarsh',(100,100), font, 3,(255,255,255),4, cv2.LINE_8)\n",
    "cv2.imshow('Text', pic)\n",
    "cv2.waitKey(0)\n",
    "cv2.destroyAllWindows()"
   ]
  },
  {
   "cell_type": "code",
   "execution_count": null,
   "metadata": {},
   "outputs": [],
   "source": []
  }
 ],
 "metadata": {
  "kernelspec": {
   "display_name": "Python 3",
   "language": "python",
   "name": "python3"
  },
  "language_info": {
   "codemirror_mode": {
    "name": "ipython",
    "version": 3
   },
   "file_extension": ".py",
   "mimetype": "text/x-python",
   "name": "python",
   "nbconvert_exporter": "python",
   "pygments_lexer": "ipython3",
   "version": "3.6.6"
  }
 },
 "nbformat": 4,
 "nbformat_minor": 2
}
